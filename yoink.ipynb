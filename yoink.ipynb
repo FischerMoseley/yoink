{
 "cells": [
  {
   "cell_type": "code",
   "metadata": {
    "tags": [],
    "cell_id": "00000-7b15aece-c083-44c1-a933-bc282c64ae8a",
    "deepnote_to_be_reexecuted": false,
    "source_hash": "289fc9d1",
    "execution_start": 1637621762654,
    "execution_millis": 107,
    "is_code_hidden": false,
    "deepnote_cell_type": "code"
   },
   "source": "from IPython.display import display, SVG\nimport numpy as np\nimport os\nimport pydot\nimport sys\n\nimport pydrake\nfrom pydrake.all import (\n    Adder, AddMultibodyPlantSceneGraph, Demultiplexer, DiagramBuilder, \n    InverseDynamicsController, MakeMultibodyStateToWsgStateSystem, \n    MeshcatVisualizerCpp, MultibodyPlant,Parser, PassThrough, \n    SchunkWsgPositionController, StateInterpolatorWithDiscreteDerivative,\n    RigidTransform, RotationMatrix, Simulator, SpatialVelocity, ConstantVectorSource\n)\nfrom manipulation.meshcat_cpp_utils import StartMeshcat\nfrom manipulation.scenarios import AddIiwa, AddWsg, AddRgbdSensors\nfrom manipulation.utils import FindResource\nfrom manipulation import running_as_notebook\nfrom manipulation.scenarios import AddShape\n\nif running_as_notebook and sys.platform == \"linux\" and os.getenv(\"DISPLAY\") is None:\n    from pyvirtualdisplay import Display\n    virtual_display = Display(visible=0, size=(1400, 900))\n    virtual_display.start()",
   "execution_count": 2,
   "outputs": []
  },
  {
   "cell_type": "markdown",
   "source": "## Shamelessly Copying from Russ's Piazza",
   "metadata": {
    "tags": [],
    "is_collapsed": false,
    "cell_id": "00001-36daf73b-26f7-43fb-81a2-e2795cde6e94",
    "deepnote_cell_type": "text-cell-h2"
   }
  },
  {
   "cell_type": "code",
   "metadata": {
    "tags": [],
    "cell_id": "00001-773e5177-2424-4a54-a982-ae6b419fd50a",
    "deepnote_to_be_reexecuted": false,
    "source_hash": "6d42057f",
    "execution_start": 1637618716016,
    "execution_millis": 13,
    "deepnote_output_heights": [
     null,
     21.1875
    ],
    "deepnote_cell_type": "code"
   },
   "source": "# Start the visualizer.\nmeshcat = StartMeshcat()",
   "outputs": [
    {
     "name": "stdout",
     "text": "Meshcat is now available at https://94a9bd61-ed58-4c78-95db-bc94494e48ba.deepnoteproject.com\n",
     "output_type": "stream"
    }
   ],
   "execution_count": null
  },
  {
   "cell_type": "code",
   "metadata": {
    "tags": [],
    "cell_id": "00002-7e53e6ed-5a80-4075-87e7-5b03dd8f1617",
    "deepnote_to_be_reexecuted": false,
    "source_hash": "a91a3da4",
    "execution_start": 1637617344215,
    "execution_millis": 7123,
    "deepnote_cell_type": "code"
   },
   "source": "def MakeManipulationStation(time_step=0.002):\n    builder = DiagramBuilder()\n\n    # Add (only) the iiwa, WSG, cameras, ball, and ground to the scene.\n    plant, scene_graph = AddMultibodyPlantSceneGraph(builder, time_step=time_step)\n    iiwa = AddIiwa(plant)\n    wsg = AddWsg(plant, iiwa)\n    Parser(plant).AddModelFromFile(FindResource(\"models/camera_box.sdf\"), \"camera0\")\n    Parser(plant).AddModelFromFile('ball.urdf', \"ball\")\n    ground = AddShape(plant, pydrake.geometry.Box(10,10,2.0), name=\"ground\", mu=0.2)\n    plant.WeldFrames(plant.world_frame(), plant.GetFrameByName(\"ground\"), RigidTransform(p=[0,0,-1.0]))\n    \n    plant.Finalize()\n\n\n    num_iiwa_positions = plant.num_positions(iiwa)\n\n    # I need a PassThrough system so that I can export the input port.\n    iiwa_position = builder.AddSystem(PassThrough(num_iiwa_positions))\n    builder.ExportInput(iiwa_position.get_input_port(), \"iiwa_position\")\n    builder.ExportOutput(iiwa_position.get_output_port(), \"iiwa_position_command\")\n\n    # Export the iiwa \"state\" outputs.\n    demux = builder.AddSystem(Demultiplexer(2 * num_iiwa_positions, num_iiwa_positions))\n    builder.Connect(plant.get_state_output_port(iiwa), demux.get_input_port())\n    builder.ExportOutput(demux.get_output_port(0), \"iiwa_position_measured\")\n    builder.ExportOutput(demux.get_output_port(1), \"iiwa_velocity_estimated\")\n    builder.ExportOutput(plant.get_state_output_port(iiwa), \"iiwa_state_estimated\")\n\n    # Make the plant for the iiwa controller to use.\n    controller_plant = MultibodyPlant(time_step=time_step)\n    controller_iiwa = AddIiwa(controller_plant)\n    AddWsg(controller_plant, controller_iiwa, welded=True)\n    controller_plant.Finalize()\n\n    # Add the iiwa controller\n    iiwa_controller = builder.AddSystem(\n        InverseDynamicsController(\n            controller_plant,\n            kp=[100]*num_iiwa_positions,\n            ki=[1]*num_iiwa_positions,\n            kd=[20]*num_iiwa_positions,\n            has_reference_acceleration=False))\n    iiwa_controller.set_name(\"iiwa_controller\")\n    builder.Connect(\n        plant.get_state_output_port(iiwa), iiwa_controller.get_input_port_estimated_state())\n\n    # Add in the feed-forward torque\n    adder = builder.AddSystem(Adder(2, num_iiwa_positions))\n    builder.Connect(iiwa_controller.get_output_port_control(), adder.get_input_port(0))\n\n    # Use a PassThrough to make the port optional (it will provide zero values if not connected).\n    torque_passthrough = builder.AddSystem(PassThrough([0]*num_iiwa_positions))\n    builder.Connect(torque_passthrough.get_output_port(), adder.get_input_port(1))\n    builder.ExportInput(torque_passthrough.get_input_port(), \"iiwa_feedforward_torque\")\n    builder.Connect(adder.get_output_port(), plant.get_actuation_input_port(iiwa))\n\n    # Add discrete derivative to command velocities.\n    desired_state_from_position = builder.AddSystem(\n        StateInterpolatorWithDiscreteDerivative(num_iiwa_positions, time_step, suppress_initial_transient=True))\n    desired_state_from_position.set_name(\"desired_state_from_position\")\n    builder.Connect(desired_state_from_position.get_output_port(), iiwa_controller.get_input_port_desired_state())\n    builder.Connect(iiwa_position.get_output_port(), desired_state_from_position.get_input_port())\n\n    # Export commanded torques.\n    #builder.ExportOutput(adder.get_output_port(), \"iiwa_torque_commanded\")\n    #builder.ExportOutput(adder.get_output_port(), \"iiwa_torque_measured\")\n\n    # Wsg controller.\n    wsg_controller = builder.AddSystem(SchunkWsgPositionController())\n    wsg_controller.set_name(\"wsg_controller\")\n    builder.Connect(wsg_controller.get_generalized_force_output_port(), plant.get_actuation_input_port(wsg))\n    builder.Connect(plant.get_state_output_port(wsg), wsg_controller.get_state_input_port())\n    builder.ExportInput(wsg_controller.get_desired_position_input_port(), \"wsg_position\")\n    builder.ExportInput(wsg_controller.get_force_limit_input_port(), \"wsg_force_limit\")\n    wsg_mbp_state_to_wsg_state = builder.AddSystem(MakeMultibodyStateToWsgStateSystem())\n    builder.Connect(plant.get_state_output_port(wsg), wsg_mbp_state_to_wsg_state.get_input_port())\n    builder.ExportOutput(wsg_mbp_state_to_wsg_state.get_output_port(), \"wsg_state_measured\")\n    builder.ExportOutput(wsg_controller.get_grip_force_output_port(), \"wsg_force_measured\")\n\n    # Cameras.\n    AddRgbdSensors(builder, plant, scene_graph)\n\n    # Export \"cheat\" ports.\n    builder.ExportOutput(scene_graph.get_query_output_port(), \"geometry_query\")\n    builder.ExportOutput(plant.get_contact_results_output_port(), \"contact_results\")\n    builder.ExportOutput(plant.get_state_output_port(), \"plant_continuous_state\")\n\n    diagram = builder.Build()\n    return diagram, plant\n\ndiagram, plant = MakeManipulationStation()\n\nbuilder = DiagramBuilder()\nstation = builder.AddSystem(diagram)\n\nball = plant.GetBodyByName(\"ball\")\n\nMeshcatVisualizerCpp.AddToBuilder(\n    builder, station.GetOutputPort(\"geometry_query\"), meshcat)\n\n#fix wsg position\nwsg_position = builder.AddSystem(ConstantVectorSource([0.1]))\nbuilder.Connect(wsg_position.get_output_port(), station.GetInputPort(\"wsg_position\"))\n\n#export iiwa position\nbuilder.ExportInput(station.GetInputPort(\"iiwa_position\"))\n\ndiagram = builder.Build()\ncontext = diagram.CreateDefaultContext()\ndiagram.Publish(context)\n\npydot.graph_from_dot_data(diagram.GetGraphvizString())[0].write_png('diagram.png')\n#display(SVG(pydot.graph_from_dot_data(diagram.GetGraphvizString())[0].create_svg()))",
   "outputs": [],
   "execution_count": null
  },
  {
   "cell_type": "code",
   "metadata": {
    "tags": [],
    "cell_id": "00004-f94af2a6-c2b7-4eb3-875e-10a964d96f63",
    "deepnote_to_be_reexecuted": true,
    "source_hash": "1921b34",
    "execution_start": 1637616093786,
    "execution_millis": 732,
    "deepnote_output_heights": [
     21.1875
    ],
    "deepnote_cell_type": "code"
   },
   "source": "simulator = Simulator(diagram)\ncontext = simulator.get_mutable_context()\nplant_context = plant.GetMyContextFromRoot(context)\n\n#initial condition\nX_W_ball_initial = RigidTransform(RotationMatrix.MakeXRotation(0), [1, 1, 1])\nV_W_ball_initial = SpatialVelocity([0,0,0,0,0,10]) # of the form w_x, w_y, w_z, v_x, v_y, v_z\n\nplant.SetFreeBodyPose(plant_context, ball, X_W_ball_initial)\nplant.SetFreeBodySpatialVelocity(body=ball, context=plant_context,  V_WB=V_W_ball_initial)\n\nsimulator.set_target_realtime_rate(0.25)\nsimulator.AdvanceTo(0.01)",
   "outputs": [
    {
     "output_type": "execute_result",
     "execution_count": 27,
     "data": {
      "text/plain": "<pydrake.systems.analysis.SimulatorStatus at 0x7fa14e799370>"
     },
     "metadata": {}
    }
   ],
   "execution_count": null
  },
  {
   "cell_type": "code",
   "source": "simulator.AdvanceTo(3)",
   "metadata": {
    "tags": [],
    "cell_id": "00005-a3bab3ef-e6ca-4c7e-8079-7b83031751a4",
    "deepnote_to_be_reexecuted": true,
    "source_hash": "759223e1",
    "execution_start": 1637616082850,
    "execution_millis": 8,
    "deepnote_output_heights": [
     21.1875
    ],
    "deepnote_cell_type": "code"
   },
   "outputs": [
    {
     "output_type": "execute_result",
     "execution_count": 25,
     "data": {
      "text/plain": "<pydrake.systems.analysis.SimulatorStatus at 0x7fa143caeeb0>"
     },
     "metadata": {}
    },
    {
     "output_type": "error",
     "ename": "KernelInterrupted",
     "evalue": "Execution interrupted by the Jupyter kernel.",
     "traceback": [
      "\u001b[0;31m---------------------------------------------------------------------------\u001b[0m",
      "\u001b[0;31mKernelInterrupted\u001b[0m: Execution interrupted by the Jupyter kernel."
     ]
    }
   ],
   "execution_count": null
  },
  {
   "cell_type": "markdown",
   "source": "## trajectory optimization via direct collocation: (everything below here is testing)",
   "metadata": {
    "tags": [],
    "is_collapsed": false,
    "cell_id": "00008-e67255b4-92d5-4812-ad82-8c99f7fe9280",
    "deepnote_cell_type": "text-cell-h2"
   }
  },
  {
   "cell_type": "code",
   "metadata": {
    "tags": [],
    "cell_id": "00009-fac84fed-7269-49ed-a3c0-27b23ec20d12",
    "deepnote_to_be_reexecuted": false,
    "source_hash": "42e73fca",
    "execution_start": 1637622860580,
    "execution_millis": 160749,
    "deepnote_output_heights": [
     607,
     607
    ],
    "deepnote_cell_type": "code"
   },
   "source": "from pydrake.all import (DiagramBuilder, DirectCollocation, MultibodyPlant,\n                         MultibodyPositionToGeometryPose, Parser,\n                         PiecewisePolynomial, PlanarSceneGraphVisualizer,\n                         SceneGraph, Simulator, Solve, TrajectorySource,\n                         AddMultibodyPlantSceneGraph, PassThrough, BasicVector)\n\nplant = MultibodyPlant(time_step = 0)\niiwa = AddIiwa(plant)\n#wsg = AddWsg(plant, iiwa)\nplant.Finalize()\n\n#display(SVG(pydot.graph_from_dot_data(plant.GetGraphvizString())[0].create_svg()))\n\ncontext = plant.CreateDefaultContext()\n\ndircol = DirectCollocation(\n    plant,\n    context,\n    num_time_samples=21,\n    minimum_timestep=0.1,\n    maximum_timestep=1,\n    input_port_index = plant.get_input_port(3).get_index())\n\ndircol.AddEqualTimeIntervalsConstraints()\n\n# set initial state\ninitial_state = tuple([0]*14) # i have no idea what the ordering here is chief\ndircol.AddBoundingBoxConstraint(initial_state, initial_state, dircol.initial_state())\n\n# set final state\nfinal_state_lb = tuple([0.95]*14)\nfinal_state_ub = tuple([1.05]*14)\ndircol.AddBoundingBoxConstraint(final_state_lb, final_state_ub, dircol.final_state())\n\n# constrain joint torques\n#foo = dircol.decision_variables()[294:440]\n#for f in foo:\n#    dircol.AddBoundingBoxConstraint(-10, 10, f)\n\n# add cost\nu = dircol.input()\nx = dircol.state()\n\ndircol.AddFinalCost(dircol.time()**2)\n#dircol.AddRunningCost((10 * u.dot(u)))\n\n# set initial state \n#initial_x_trajectory = PiecewisePolynomial.FirstOrderHold([0., 4.], np.column_stack((initial_state, final_state)))  # yapf: disable\n#dircol.SetInitialTrajectory(PiecewisePolynomial(), initial_x_trajectory)\n\nresult = Solve(dircol)\nprint(\"Success? \", result.is_success())\nprint('optimal cost = ', result.get_optimal_cost())\nprint('solver is: ', result.get_solver_id().name())\n\nif(not result.is_success()):\n    print(dircol)\n    infeasible_constraints = result.GetInfeasibleConstraints(dircol)\n    for c in infeasible_constraints:\n        print(f\"infeasible constraint: {c}\")\n\nassert result.is_success()",
   "execution_count": 18,
   "outputs": [
    {
     "name": "stdout",
     "text": "Success?  True\noptimal cost =  4.000000000000051\nsolver is:  SNOPT/fortran\n",
     "output_type": "stream"
    }
   ]
  },
  {
   "cell_type": "code",
   "metadata": {
    "tags": [],
    "cell_id": "00010-579ee92f-e658-45c1-917f-d69fe7810cbf",
    "deepnote_to_be_reexecuted": false,
    "source_hash": "9664b31d",
    "execution_start": 1637621629111,
    "execution_millis": 127,
    "deepnote_output_heights": [
     193.875,
     21.1875
    ],
    "deepnote_cell_type": "code"
   },
   "source": "x_trajectory = dircol.ReconstructStateTrajectory(result)\n\nplant = MultibodyPlant(time_step = 0)\nscene_graph = SceneGraph()\nplant.RegisterAsSourceForSceneGraph(scene_graph)\niiwa = AddIiwa(plant)\n#wsg = AddWsg(plant, iiwa)\nplant.Finalize()\n\nbuilder = DiagramBuilder()\nsource = builder.AddSystem(TrajectorySource(x_trajectory))\nbuilder.AddSystem(scene_graph)\npos_to_pose = builder.AddSystem(MultibodyPositionToGeometryPose(plant, input_multibody_state=True))\nbuilder.Connect(source.get_output_port(0), pos_to_pose.get_input_port())\nbuilder.Connect(pos_to_pose.get_output_port(), scene_graph.get_source_pose_port(plant.get_source_id()))\n\nvisualizer = MeshcatVisualizerCpp.AddToBuilder(builder, scene_graph.get_query_output_port(), meshcat)\n\ndiagram = builder.Build()\n#display(SVG(pydot.graph_from_dot_data(diagram.GetGraphvizString())[0].create_svg())) # display diagram\n\nsimulator = Simulator(diagram)\nsimulator.set_target_realtime_rate(0.25)\nsimulator.AdvanceTo(0.1)",
   "outputs": [
    {
     "output_type": "error",
     "ename": "NameError",
     "evalue": "name 'meshcat' is not defined",
     "traceback": [
      "\u001b[0;31m---------------------------------------------------------------------------\u001b[0m",
      "\u001b[0;31mNameError\u001b[0m                                 Traceback (most recent call last)",
      "\u001b[0;32m<ipython-input-40-d97fe84e3055>\u001b[0m in \u001b[0;36m<module>\u001b[0;34m\u001b[0m\n\u001b[1;32m     15\u001b[0m \u001b[0mbuilder\u001b[0m\u001b[0;34m.\u001b[0m\u001b[0mConnect\u001b[0m\u001b[0;34m(\u001b[0m\u001b[0mpos_to_pose\u001b[0m\u001b[0;34m.\u001b[0m\u001b[0mget_output_port\u001b[0m\u001b[0;34m(\u001b[0m\u001b[0;34m)\u001b[0m\u001b[0;34m,\u001b[0m \u001b[0mscene_graph\u001b[0m\u001b[0;34m.\u001b[0m\u001b[0mget_source_pose_port\u001b[0m\u001b[0;34m(\u001b[0m\u001b[0mplant\u001b[0m\u001b[0;34m.\u001b[0m\u001b[0mget_source_id\u001b[0m\u001b[0;34m(\u001b[0m\u001b[0;34m)\u001b[0m\u001b[0;34m)\u001b[0m\u001b[0;34m)\u001b[0m\u001b[0;34m\u001b[0m\u001b[0;34m\u001b[0m\u001b[0m\n\u001b[1;32m     16\u001b[0m \u001b[0;34m\u001b[0m\u001b[0m\n\u001b[0;32m---> 17\u001b[0;31m \u001b[0mvisualizer\u001b[0m \u001b[0;34m=\u001b[0m \u001b[0mMeshcatVisualizerCpp\u001b[0m\u001b[0;34m.\u001b[0m\u001b[0mAddToBuilder\u001b[0m\u001b[0;34m(\u001b[0m\u001b[0mbuilder\u001b[0m\u001b[0;34m,\u001b[0m \u001b[0mscene_graph\u001b[0m\u001b[0;34m.\u001b[0m\u001b[0mget_query_output_port\u001b[0m\u001b[0;34m(\u001b[0m\u001b[0;34m)\u001b[0m\u001b[0;34m,\u001b[0m \u001b[0mmeshcat\u001b[0m\u001b[0;34m)\u001b[0m\u001b[0;34m\u001b[0m\u001b[0;34m\u001b[0m\u001b[0m\n\u001b[0m\u001b[1;32m     18\u001b[0m \u001b[0;34m\u001b[0m\u001b[0m\n\u001b[1;32m     19\u001b[0m \u001b[0mdiagram\u001b[0m \u001b[0;34m=\u001b[0m \u001b[0mbuilder\u001b[0m\u001b[0;34m.\u001b[0m\u001b[0mBuild\u001b[0m\u001b[0;34m(\u001b[0m\u001b[0;34m)\u001b[0m\u001b[0;34m\u001b[0m\u001b[0;34m\u001b[0m\u001b[0m\n",
      "\u001b[0;31mNameError\u001b[0m: name 'meshcat' is not defined"
     ]
    }
   ],
   "execution_count": null
  },
  {
   "cell_type": "code",
   "source": "simulator.set_target_realtime_rate(0.25)\nsimulator.AdvanceTo(21)",
   "metadata": {
    "tags": [],
    "cell_id": "00010-f1fb3337-7bd0-4f60-adc5-8697de92a17a",
    "deepnote_to_be_reexecuted": false,
    "source_hash": "f8cd35c",
    "execution_start": 1637617764767,
    "execution_millis": 1,
    "deepnote_output_heights": [
     21.1875
    ],
    "deepnote_cell_type": "code"
   },
   "outputs": [
    {
     "output_type": "execute_result",
     "execution_count": 5,
     "data": {
      "text/plain": "<pydrake.systems.analysis.SimulatorStatus at 0x7f85f40fdb70>"
     },
     "metadata": {}
    }
   ],
   "execution_count": null
  },
  {
   "cell_type": "code",
   "source": "x_trajectory = dircol.ReconstructStateTrajectory(result)\nu_trajectory = dircol.ReconstructInputTrajectory(result)\n\nts = np.linspace(0, 2.5, 100)\nxs = np.zeros((100, 14))\nus = np.zeros((100, 7))\n\nfor t in range(len(ts)):\n    xs[t,:] = x_trajectory.value(t).T\n    us[t,:] = u_trajectory.value(t).T\n\nimport matplotlib.pyplot as plt\nfor i in range(7):\n    plt.plot(ts, us[:,i], label=f'u[{i}]')\nplt.legend()\nplt.show()\n\nfor i in range(14):\n    plt.plot(ts, xs[:,i], label=f'x[{i}]')\nplt.legend()\nplt.show()\n\n    ",
   "metadata": {
    "tags": [],
    "cell_id": "00012-56dccfbe-ad75-44fe-a1e4-45ef4065a5d3",
    "deepnote_to_be_reexecuted": false,
    "source_hash": "1da07165",
    "execution_start": 1637623073694,
    "execution_millis": 477,
    "deepnote_output_heights": [
     250,
     250,
     250,
     254,
     250,
     254,
     250
    ],
    "deepnote_cell_type": "code"
   },
   "outputs": [
    {
     "data": {
      "text/plain": "<Figure size 432x288 with 1 Axes>",
      "image/png": "[encoded data removed]"
     },
     "metadata": {
      "needs_background": "light",
      "image/png": {
       "width": 377,
       "height": 248
      }
     },
     "output_type": "display_data"
    },
    {
     "data": {
      "text/plain": "<Figure size 432x288 with 1 Axes>",
      "image/png": "[encoded data removed]"
     },
     "metadata": {
      "needs_background": "light",
      "image/png": {
       "width": 377,
       "height": 248
      }
     },
     "output_type": "display_data"
    }
   ],
   "execution_count": 22
  },
  {
   "cell_type": "markdown",
   "source": "## predict ball position/velocity from initial state",
   "metadata": {
    "tags": [],
    "is_collapsed": false,
    "cell_id": "00004-84973873-9906-406a-b3f6-363b5bafa744",
    "deepnote_cell_type": "text-cell-h2"
   }
  },
  {
   "cell_type": "code",
   "metadata": {
    "tags": [],
    "cell_id": "00005-8353db07-7b97-4688-8116-4a992d7e68f4",
    "deepnote_to_be_reexecuted": false,
    "source_hash": "8da37d64",
    "execution_start": 1637622611614,
    "execution_millis": 5,
    "deepnote_output_heights": [
     250
    ],
    "deepnote_cell_type": "code"
   },
   "source": "def predict_ball_trajectory(p_i,v_i,t):\n    g = -9.81\n    px_i, py_i, pz_i = p_i.translation()\n    vx_i, vy_i, vz_i = v_i.translational()\n    \n    px_t = px_i + (vx_i*t)\n    py_t = py_i + (vy_i*t)\n    pz_t = pz_i + (vz_i*t) + (0.5*g*t**2)\n\n    vx_t = vx_i\n    vy_t = vy_i\n    vz_t = vz_i + t*g\n\n    p_t = RigidTransform(RotationMatrix.MakeXRotation(0), [px_t, py_t, pz_t])\n    v_t = SpatialVelocity([0,0,0,vx_t, vy_t, vz_t])\n    \n    return p_t, v_t\n\ndef predict_ball_trajectory_test():\n    # quick test to make sure the trajectories are ballistic\n\n    X_W_ball_initial = RigidTransform(RotationMatrix.MakeXRotation(0), [1, 1, 1])\n    V_W_ball_initial = SpatialVelocity([0,0,0,0,0,10]) # of the form w_x, w_y, w_z, v_x, v_y, v_z\n    \n    time_step = 0.1\n    run_time = 5\n    steps = int(run_time/time_step)\n    time = np.linspace(0, run_time, steps)\n    positions = np.zeros((3, steps))\n    velocities = np.zeros((3, steps))\n\n    for i in range(steps):\n        p, v = predict_ball_trajectory(X_W_ball_initial, V_W_ball_initial, time[i])\n        positions[:,i] = p.translation()\n        velocities[:,i] = v.translational()\n\n    import matplotlib.pyplot as plt\n    plt.plot(time, velocities[0])\n    plt.plot(time, velocities[1])\n    plt.plot(time, velocities[2])\n    plt.show()",
   "execution_count": 16,
   "outputs": []
  },
  {
   "cell_type": "code",
   "source": "",
   "metadata": {
    "tags": [],
    "cell_id": "00013-0c24ee42-5a09-44b2-bb1d-73ec2f0c11b6",
    "deepnote_cell_type": "code"
   },
   "outputs": [],
   "execution_count": null
  },
  {
   "cell_type": "markdown",
   "source": "<a style='text-decoration:none;line-height:16px;display:flex;color:#5B5B62;padding:10px;justify-content:end;' href='https://deepnote.com?utm_source=created-in-deepnote-cell&projectId=94a9bd61-ed58-4c78-95db-bc94494e48ba' target=\"_blank\">\n<img alt='Created in deepnote.com' style='display:inline;max-height:16px;margin:0px;margin-right:7.5px;' src='data:image/svg+xml;base64,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' > </img>\nCreated in <span style='font-weight:600;margin-left:4px;'>Deepnote</span></a>",
   "metadata": {
    "tags": [],
    "created_in_deepnote_cell": true,
    "deepnote_cell_type": "markdown"
   }
  }
 ],
 "nbformat": 4,
 "nbformat_minor": 2,
 "metadata": {
  "orig_nbformat": 2,
  "deepnote": {
   "is_reactive": false
  },
  "deepnote_notebook_id": "37de23d2-6b27-404a-978c-06ce4b86478b",
  "deepnote_execution_queue": []
 }
}