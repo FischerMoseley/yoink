{
 "cells": [
  {
   "cell_type": "code",
   "metadata": {
    "tags": [],
    "cell_id": "00000-7b15aece-c083-44c1-a933-bc282c64ae8a",
    "deepnote_to_be_reexecuted": false,
    "source_hash": "c5017ba2",
    "execution_start": 1636457838752,
    "execution_millis": 2981,
    "deepnote_cell_type": "code"
   },
   "source": "import numpy as np\nfrom pydrake.examples.manipulation_station import ManipulationStation\n\nfrom pydrake.all import (\n    DiagramBuilder, MeshcatVisualizerCpp, MeshcatVisualizerParams, \n    Simulator, FindResourceOrThrow,\n    Parser, MultibodyPlant, RigidTransform, RollPitchYaw,\n    PiecewisePolynomial, PiecewiseQuaternionSlerp, RotationMatrix, Solve,\n    TrajectorySource, ConstantVectorSource\n)\nfrom pydrake.multibody import inverse_kinematics\nfrom pydrake.trajectories import PiecewisePolynomial\nfrom manipulation.meshcat_cpp_utils import (\n  StartMeshcat, AddMeshcatTriad\n)\nfrom manipulation.scenarios import AddMultibodyTriad",
   "outputs": [],
   "execution_count": null
  },
  {
   "cell_type": "markdown",
   "source": "## Shamelessly Copying from 8.1",
   "metadata": {
    "tags": [],
    "is_collapsed": false,
    "cell_id": "00001-36daf73b-26f7-43fb-81a2-e2795cde6e94",
    "deepnote_cell_type": "text-cell-h2"
   }
  },
  {
   "cell_type": "code",
   "metadata": {
    "tags": [],
    "cell_id": "00001-773e5177-2424-4a54-a982-ae6b419fd50a",
    "deepnote_to_be_reexecuted": false,
    "source_hash": "6d42057f",
    "execution_start": 1636430704149,
    "execution_millis": 18,
    "deepnote_cell_type": "code"
   },
   "source": "# Start the visualizer.\nmeshcat = StartMeshcat()",
   "outputs": [
    {
     "name": "stdout",
     "text": "Meshcat is now available at https://94a9bd61-ed58-4c78-95db-bc94494e48ba.deepnoteproject.com\n",
     "output_type": "stream"
    }
   ],
   "execution_count": null
  },
  {
   "cell_type": "code",
   "metadata": {
    "tags": [],
    "cell_id": "00002-7e53e6ed-5a80-4075-87e7-5b03dd8f1617",
    "deepnote_to_be_reexecuted": false,
    "source_hash": "2a50a38a",
    "execution_start": 1636430704231,
    "execution_millis": 5415,
    "deepnote_cell_type": "code"
   },
   "source": "def setup_manipulation_station():\n  builder = DiagramBuilder()\n  station = builder.AddSystem(ManipulationStation(time_step=1e-3))\n  station.SetupManipulationClassStation()\n  AddMultibodyTriad(\n      station.get_multibody_plant().GetFrameByName(\"body\"), station.get_scene_graph())\n  station.Finalize()\n\n  MeshcatVisualizerCpp.AddToBuilder(\n        builder,\n        station.GetOutputPort(\"query_object\"),\n        meshcat,\n        MeshcatVisualizerParams(delete_on_initialization_event=False))\n\n  wsg_position = builder.AddSystem(ConstantVectorSource([0.1]))\n  builder.Connect(wsg_position.get_output_port(),\n                  station.GetInputPort(\"wsg_position\"))\n\n  diagram = builder.Build()\n\n  plant = station.get_multibody_plant()\n  context = plant.CreateDefaultContext()\n  gripper = plant.GetBodyByName(\"body\")\n\n  initial_pose = plant.EvalBodyPoseInWorld(context, gripper)\n\n  simulator = Simulator(diagram)\n  simulator.set_target_realtime_rate(1.0)\n  simulator.AdvanceTo(0.01)\n\n  return initial_pose\n\n# Get initial pose of the gripper by using default context of manip station.\ninitial_pose = setup_manipulation_station()\n\np_WR = np.array([0.7477, -0.1445, 0.4148]) # frame R: center of left door.\n\np_Rhandle = np.array([-0.033, 0.1245, 0]) # handle: frame attached to right handle.\np_Whandle = p_WR + p_Rhandle\n\np_Rhinge = np.array([0.008, -0.1395, 0]) # hinge: frame attached to right hinge.\np_Whinge = p_WR + p_Rhinge\n\np_Rhinge_handle = p_Rhandle - p_Rhinge\nr_Rhinge_handle = np.linalg.norm(p_Rhandle - p_Rhinge) # distance between handle and hinge.\n\ntheta_Rhinge_handle = np.arctan2(p_Rhinge_handle[1], p_Rhinge_handle[0])\nangle_end = np.pi # end of angle. Decrease to 120~160 deg for the easy version.\n\n# Interpolate pose for opening doors.\ndef InterpolatePoseOpen(t):\n  # Start by interpolating the yaw angle of the hinge.\n  angle_start = theta_Rhinge_handle\n  theta = angle_start + (angle_end - angle_start) * t\n  # Convert to position and rotation.\n  p_Whandle = r_Rhinge_handle * np.array([np.cos(theta), np.sin(theta), 0]) + p_Whinge\n  # Add some offset here to account for gripper yaw angle.\n  R_Whandle = RollPitchYaw(0, 0, theta).ToRotationMatrix()\n  X_Whandle = RigidTransform(R_Whandle, p_Whandle)\n\n  # Add a little offset to account for gripper.\n  p_handleG = np.array([0., 0.1, 0.])\n  R_handleG = RollPitchYaw(0, np.pi, np.pi).ToRotationMatrix()\n  X_handleG = RigidTransform(R_handleG, p_handleG)\n  X_WG = X_Whandle.multiply(X_handleG)\n  return X_WG\n\n## Interpolate Pose for entry.\ndef make_gripper_orientation_trajectory():\n  traj = PiecewiseQuaternionSlerp()\n  traj.Append(0.0, initial_pose.rotation())\n  traj.Append(5.0, InterpolatePoseOpen(0.0).rotation())\n  return traj\n\ndef make_gripper_position_trajectory():\n  traj = PiecewisePolynomial.FirstOrderHold(\n      [0.0, 5.0],\n      np.vstack([[initial_pose.translation()],\n                 [InterpolatePoseOpen(0.0).translation()]]).T)\n  return traj\n\nentry_traj_rotation = make_gripper_orientation_trajectory()\nentry_traj_translation = make_gripper_position_trajectory()\n\ndef InterpolatePoseEntry(t):\n  return RigidTransform(RotationMatrix(entry_traj_rotation.value(t)),\n                        entry_traj_translation.value(t))\n\n# Wrapper function for end-effector pose. Total time: 11 seconds.\ndef InterpolatePose(t):\n  if (t < 5.0):\n    # Duration of entry motion is set to 5 seconds.\n    return InterpolatePoseEntry(t)\n  elif (t >= 5.0) and (t < 6.0):\n    # Wait for a second to grip the handle.\n    return InterpolatePoseEntry(5.0)\n  else:\n    # Duration of the open motion is set to 5 seconds.\n    return InterpolatePoseOpen((t - 6.0) / 5.0)\n\n# Visualize our end-effector nominal trajectory.\nt_lst = np.linspace(0, 11, 30)\npose_lst = []\nfor t in t_lst:\n  AddMeshcatTriad(meshcat, path=str(t), X_PT=InterpolatePose(t), opacity=.2)\n  pose_lst.append(InterpolatePose(t))\n\n# Create gripper trajectory.\ngripper_t_lst = np.array([0., 5., 6., 11.])\ngripper_knots = np.array([0.05, 0.05, 0., 0.]).reshape(1,4)\ng_traj = PiecewisePolynomial.FirstOrderHold(gripper_t_lst, gripper_knots)\n\ndef CreateIiwaControllerPlant():\n    \"\"\"creates plant that includes only the robot and gripper, used for controllers.\"\"\"\n    robot_sdf_path = FindResourceOrThrow(\n        \"drake/manipulation/models/iiwa_description/iiwa7/iiwa7_no_collision.sdf\")\n    gripper_sdf_path = FindResourceOrThrow(\n        \"drake/manipulation/models/wsg_50_description/sdf/schunk_wsg_50_no_tip.sdf\")\n    sim_timestep = 1e-3\n    plant_robot = MultibodyPlant(sim_timestep)\n    parser = Parser(plant=plant_robot)\n    parser.AddModelFromFile(robot_sdf_path)\n    parser.AddModelFromFile(gripper_sdf_path)\n    plant_robot.WeldFrames(\n        frame_on_parent_P=plant_robot.world_frame(),\n        frame_on_child_C=plant_robot.GetFrameByName(\"iiwa_link_0\"))\n    plant_robot.WeldFrames(\n        frame_on_parent_P=plant_robot.GetFrameByName(\"iiwa_link_7\"),\n        frame_on_child_C=plant_robot.GetFrameByName(\"body\"),\n        X_PC=RigidTransform(RollPitchYaw(np.pi/2, 0, np.pi/2), np.array([0, 0, 0.114]))\n    )\n    plant_robot.mutable_gravity_field().set_gravity_vector([0, 0, 0])\n    plant_robot.Finalize()\n\n    link_frame_indices = []\n    for i in range(8):\n        link_frame_indices.append(\n            plant_robot.GetFrameByName(\"iiwa_link_\" + str(i)).index())\n\n    return plant_robot, link_frame_indices\n\ndef BuildAndSimulateTrajectory(q_traj, g_traj):\n  \"\"\"Simulate trajectory for manipulation station.\n  @param q_traj: Trajectory class used to initialize TrajectorySource for joints.\n  @param g_traj: Trajectory class used to initialize TrajectorySource for gripper.\n  \"\"\"\n  builder = DiagramBuilder()\n  station = builder.AddSystem(ManipulationStation(time_step=1e-3))\n  station.SetupManipulationClassStation()\n  AddMultibodyTriad(\n      station.get_multibody_plant().GetFrameByName(\"body\"), station.get_scene_graph())\n  station.Finalize()\n\n  q_traj_system = builder.AddSystem(TrajectorySource(q_traj))\n  g_traj_system = builder.AddSystem(TrajectorySource(g_traj))\n\n  MeshcatVisualizerCpp.AddToBuilder(\n        builder,\n        station.GetOutputPort(\"query_object\"),\n        meshcat,\n        MeshcatVisualizerParams(delete_on_initialization_event=False))\n\n  builder.Connect(q_traj_system.get_output_port(),\n                  station.GetInputPort(\"iiwa_position\"))\n  builder.Connect(g_traj_system.get_output_port(),\n                  station.GetInputPort(\"wsg_position\"))\n\n  diagram = builder.Build()\n\n  simulator = Simulator(diagram)\n  simulator.set_target_realtime_rate(1.0)\n  simulator.AdvanceTo(0.01)\n\n  station_plant = station.get_multibody_plant()\n\n  return simulator, station_plant",
   "outputs": [],
   "execution_count": null
  },
  {
   "cell_type": "markdown",
   "source": "## make balls, apply physics to them",
   "metadata": {
    "tags": [],
    "is_collapsed": false,
    "cell_id": "00004-84973873-9906-406a-b3f6-363b5bafa744",
    "deepnote_cell_type": "text-cell-h2"
   }
  },
  {
   "cell_type": "code",
   "metadata": {
    "tags": [],
    "cell_id": "00003-c8c6ca5a-954d-4604-8675-885b4779dbdf",
    "deepnote_to_be_reexecuted": false,
    "source_hash": "b623e53d",
    "execution_start": 1636430709652,
    "execution_millis": 21,
    "deepnote_cell_type": "code"
   },
   "source": "",
   "outputs": [],
   "execution_count": null
  },
  {
   "cell_type": "code",
   "metadata": {
    "tags": [],
    "cell_id": "00005-4c41e910-5bab-45d7-82be-ed8fa220b255",
    "deepnote_to_be_reexecuted": false,
    "source_hash": "b623e53d",
    "execution_start": 1636430709688,
    "deepnote_cell_type": "code"
   },
   "source": "",
   "outputs": [],
   "execution_count": null
  },
  {
   "cell_type": "markdown",
   "source": "<a style='text-decoration:none;line-height:16px;display:flex;color:#5B5B62;padding:10px;justify-content:end;' href='https://deepnote.com?utm_source=created-in-deepnote-cell&projectId=94a9bd61-ed58-4c78-95db-bc94494e48ba' target=\"_blank\">\n<img alt='Created in deepnote.com' style='display:inline;max-height:16px;margin:0px;margin-right:7.5px;' src='data:image/svg+xml;base64,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' > </img>\nCreated in <span style='font-weight:600;margin-left:4px;'>Deepnote</span></a>",
   "metadata": {
    "tags": [],
    "created_in_deepnote_cell": true,
    "deepnote_cell_type": "markdown"
   }
  }
 ],
 "nbformat": 4,
 "nbformat_minor": 2,
 "metadata": {
  "orig_nbformat": 2,
  "deepnote": {
   "is_reactive": false
  },
  "deepnote_notebook_id": "37de23d2-6b27-404a-978c-06ce4b86478b",
  "deepnote_execution_queue": []
 }
}