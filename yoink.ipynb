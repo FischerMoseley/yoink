{
 "cells": [
  {
   "cell_type": "code",
   "metadata": {
    "tags": [],
    "cell_id": "00000-7b15aece-c083-44c1-a933-bc282c64ae8a",
    "deepnote_to_be_reexecuted": false,
    "source_hash": "6820b85f",
    "execution_start": 1636577204500,
    "execution_millis": 950,
    "deepnote_cell_type": "code"
   },
   "source": "from IPython.display import display, SVG\nimport numpy as np\nimport os\nimport pydot\nimport sys\n\nfrom pydrake.all import (\n    Adder, AddMultibodyPlantSceneGraph, Demultiplexer, DiagramBuilder, \n    InverseDynamicsController, MakeMultibodyStateToWsgStateSystem, \n    MeshcatVisualizerCpp, MultibodyPlant,Parser, PassThrough, \n    SchunkWsgPositionController, StateInterpolatorWithDiscreteDerivative\n)\nfrom manipulation.meshcat_cpp_utils import StartMeshcat\nfrom manipulation.scenarios import AddIiwa, AddWsg, AddRgbdSensors\nfrom manipulation.utils import FindResource\nfrom manipulation import running_as_notebook\n\nif running_as_notebook and sys.platform == \"linux\" and os.getenv(\"DISPLAY\") is None:\n    from pyvirtualdisplay import Display\n    virtual_display = Display(visible=0, size=(1400, 900))\n    virtual_display.start()",
   "outputs": [],
   "execution_count": 1
  },
  {
   "cell_type": "markdown",
   "source": "## Shamelessly Copying from Russ's Piazza",
   "metadata": {
    "tags": [],
    "is_collapsed": false,
    "cell_id": "00001-36daf73b-26f7-43fb-81a2-e2795cde6e94",
    "deepnote_cell_type": "text-cell-h2"
   }
  },
  {
   "cell_type": "code",
   "metadata": {
    "tags": [],
    "cell_id": "00001-773e5177-2424-4a54-a982-ae6b419fd50a",
    "deepnote_to_be_reexecuted": false,
    "source_hash": "6d42057f",
    "execution_start": 1636577205461,
    "execution_millis": 5,
    "deepnote_cell_type": "code"
   },
   "source": "# Start the visualizer.\nmeshcat = StartMeshcat()",
   "outputs": [
    {
     "name": "stdout",
     "text": "Meshcat is now available at https://94a9bd61-ed58-4c78-95db-bc94494e48ba.deepnoteproject.com\n",
     "output_type": "stream"
    }
   ],
   "execution_count": 2
  },
  {
   "cell_type": "code",
   "metadata": {
    "tags": [],
    "cell_id": "00002-7e53e6ed-5a80-4075-87e7-5b03dd8f1617",
    "deepnote_to_be_reexecuted": false,
    "source_hash": "5dc1d29e",
    "execution_start": 1636577205654,
    "execution_millis": 946,
    "deepnote_cell_type": "code"
   },
   "source": "def MakeManipulationStation(time_step=0.002):\n    builder = DiagramBuilder()\n\n    # Add (only) the iiwa, WSG, and cameras to the scene.\n    plant, scene_graph = AddMultibodyPlantSceneGraph(\n        builder, time_step=time_step)\n    iiwa = AddIiwa(plant)\n    wsg = AddWsg(plant, iiwa)\n    Parser(plant).AddModelFromFile(FindResource(\"models/camera_box.sdf\"), \"camera0\")\n    Parser(plant).AddModelFromFile('ball.urdf', \"ball\")\n    plant.Finalize()\n\n    num_iiwa_positions = plant.num_positions(iiwa)\n\n    # I need a PassThrough system so that I can export the input port.\n    iiwa_position = builder.AddSystem(PassThrough(num_iiwa_positions))\n    builder.ExportInput(iiwa_position.get_input_port(), \"iiwa_position\")\n    builder.ExportOutput(iiwa_position.get_output_port(), \"iiwa_position_command\")\n\n    # Export the iiwa \"state\" outputs.\n    demux = builder.AddSystem(Demultiplexer(\n        2 * num_iiwa_positions, num_iiwa_positions))\n    builder.Connect(plant.get_state_output_port(iiwa), demux.get_input_port())\n    builder.ExportOutput(demux.get_output_port(0), \"iiwa_position_measured\")\n    builder.ExportOutput(demux.get_output_port(1), \"iiwa_velocity_estimated\")\n    builder.ExportOutput(plant.get_state_output_port(iiwa), \"iiwa_state_estimated\")\n\n    # Make the plant for the iiwa controller to use.\n    controller_plant = MultibodyPlant(time_step=time_step)\n    controller_iiwa = AddIiwa(controller_plant)\n    AddWsg(controller_plant, controller_iiwa, welded=True)\n    controller_plant.Finalize()\n\n    # Add the iiwa controller\n    iiwa_controller = builder.AddSystem(\n        InverseDynamicsController(\n            controller_plant,\n            kp=[100]*num_iiwa_positions,\n            ki=[1]*num_iiwa_positions,\n            kd=[20]*num_iiwa_positions,\n            has_reference_acceleration=False))\n    iiwa_controller.set_name(\"iiwa_controller\")\n    builder.Connect(\n        plant.get_state_output_port(iiwa), iiwa_controller.get_input_port_estimated_state())\n\n    # Add in the feed-forward torque\n    adder = builder.AddSystem(Adder(2, num_iiwa_positions))\n    builder.Connect(iiwa_controller.get_output_port_control(),\n                    adder.get_input_port(0))\n    # Use a PassThrough to make the port optional (it will provide zero values if not connected).\n    torque_passthrough = builder.AddSystem(PassThrough([0]*num_iiwa_positions))\n    builder.Connect(torque_passthrough.get_output_port(),\n                    adder.get_input_port(1))\n    builder.ExportInput(torque_passthrough.get_input_port(), \n                        \"iiwa_feedforward_torque\")\n    builder.Connect(adder.get_output_port(),\n                    plant.get_actuation_input_port(iiwa))\n\n    # Add discrete derivative to command velocities.\n    desired_state_from_position = builder.AddSystem(\n        StateInterpolatorWithDiscreteDerivative(\n            num_iiwa_positions, time_step, suppress_initial_transient=True))\n    desired_state_from_position.set_name(\"desired_state_from_position\")\n    builder.Connect(desired_state_from_position.get_output_port(),      \n                    iiwa_controller.get_input_port_desired_state())\n    builder.Connect(iiwa_position.get_output_port(), \n                    desired_state_from_position.get_input_port())\n\n    # Export commanded torques.\n    #builder.ExportOutput(adder.get_output_port(), \"iiwa_torque_commanded\")\n    #builder.ExportOutput(adder.get_output_port(), \"iiwa_torque_measured\")\n\n    # Wsg controller.\n    wsg_controller = builder.AddSystem(SchunkWsgPositionController())\n    wsg_controller.set_name(\"wsg_controller\")\n    builder.Connect(\n        wsg_controller.get_generalized_force_output_port(),             \n        plant.get_actuation_input_port(wsg))\n    builder.Connect(plant.get_state_output_port(wsg),\n                    wsg_controller.get_state_input_port())\n    builder.ExportInput(wsg_controller.get_desired_position_input_port(), \n                        \"wsg_position\")\n    builder.ExportInput(wsg_controller.get_force_limit_input_port(),  \n                        \"wsg_force_limit\")\n    wsg_mbp_state_to_wsg_state = builder.AddSystem(\n        MakeMultibodyStateToWsgStateSystem())\n    builder.Connect(plant.get_state_output_port(wsg), \n                    wsg_mbp_state_to_wsg_state.get_input_port())\n    builder.ExportOutput(wsg_mbp_state_to_wsg_state.get_output_port(), \n                         \"wsg_state_measured\")\n    builder.ExportOutput(wsg_controller.get_grip_force_output_port(), \n                         \"wsg_force_measured\")\n\n    # Cameras.\n    AddRgbdSensors(builder, plant, scene_graph)\n\n    # Export \"cheat\" ports.\n    builder.ExportOutput(scene_graph.get_query_output_port(), \"geometry_query\")\n    builder.ExportOutput(plant.get_contact_results_output_port(), \n                         \"contact_results\")\n    builder.ExportOutput(plant.get_state_output_port(), \n                         \"plant_continuous_state\")\n\n    diagram = builder.Build()\n    return diagram\n\ndiagram = MakeManipulationStation()\n\n#display(SVG(pydot.graph_from_dot_data(diagram.GetGraphvizString())[0].create_svg()))",
   "outputs": [],
   "execution_count": 3
  },
  {
   "cell_type": "code",
   "source": "def TestWithMeshcat():\n    builder = DiagramBuilder()\n    station = builder.AddSystem(MakeManipulationStation())\n\n    MeshcatVisualizerCpp.AddToBuilder(\n        builder, station.GetOutputPort(\"geometry_query\"), meshcat)\n\n    diagram = builder.Build()\n    context = diagram.CreateDefaultContext()\n    diagram.Publish(context)\n\nTestWithMeshcat()",
   "metadata": {
    "tags": [],
    "cell_id": "00004-f94af2a6-c2b7-4eb3-875e-10a964d96f63",
    "deepnote_to_be_reexecuted": false,
    "source_hash": "14ed1634",
    "execution_start": 1636577206901,
    "execution_millis": 1049,
    "deepnote_cell_type": "code"
   },
   "outputs": [],
   "execution_count": 4
  },
  {
   "cell_type": "markdown",
   "source": "## make balls, apply physics to them",
   "metadata": {
    "tags": [],
    "is_collapsed": false,
    "cell_id": "00004-84973873-9906-406a-b3f6-363b5bafa744",
    "deepnote_cell_type": "text-cell-h2"
   }
  },
  {
   "cell_type": "code",
   "metadata": {
    "tags": [],
    "cell_id": "00003-c8c6ca5a-954d-4604-8675-885b4779dbdf",
    "deepnote_to_be_reexecuted": false,
    "source_hash": "b623e53d",
    "execution_start": 1636577207958,
    "execution_millis": 0,
    "deepnote_cell_type": "code"
   },
   "source": "",
   "outputs": [],
   "execution_count": 4
  },
  {
   "cell_type": "code",
   "metadata": {
    "tags": [],
    "cell_id": "00005-4c41e910-5bab-45d7-82be-ed8fa220b255",
    "deepnote_to_be_reexecuted": false,
    "source_hash": "b623e53d",
    "execution_start": 1636577207963,
    "execution_millis": 2,
    "deepnote_cell_type": "code"
   },
   "source": "",
   "outputs": [],
   "execution_count": 4
  },
  {
   "cell_type": "markdown",
   "source": "<a style='text-decoration:none;line-height:16px;display:flex;color:#5B5B62;padding:10px;justify-content:end;' href='https://deepnote.com?utm_source=created-in-deepnote-cell&projectId=94a9bd61-ed58-4c78-95db-bc94494e48ba' target=\"_blank\">\n<img alt='Created in deepnote.com' style='display:inline;max-height:16px;margin:0px;margin-right:7.5px;' src='data:image/svg+xml;base64,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' > </img>\nCreated in <span style='font-weight:600;margin-left:4px;'>Deepnote</span></a>",
   "metadata": {
    "tags": [],
    "created_in_deepnote_cell": true,
    "deepnote_cell_type": "markdown"
   }
  }
 ],
 "nbformat": 4,
 "nbformat_minor": 2,
 "metadata": {
  "orig_nbformat": 2,
  "deepnote": {
   "is_reactive": false
  },
  "deepnote_notebook_id": "37de23d2-6b27-404a-978c-06ce4b86478b",
  "deepnote_execution_queue": []
 }
}